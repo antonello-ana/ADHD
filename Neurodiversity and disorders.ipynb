{
 "cells": [
  {
   "cell_type": "code",
   "execution_count": 1,
   "id": "ddac52cf",
   "metadata": {},
   "outputs": [],
   "source": [
    "import pandas as pd\n",
    "import numpy as np\n",
    "import matplotlib.pyplot as plt\n",
    "\n",
    "from bokeh.plotting import figure, show\n",
    "from bokeh.io import output_notebook\n",
    "from bokeh.models import ColumnDataSource\n",
    "# pd.set_option('plotting.backend', 'pandas_bokeh')\n",
    "# warnings.filterwarnings('ignore')"
   ]
  },
  {
   "cell_type": "code",
   "execution_count": 2,
   "id": "e8e52095",
   "metadata": {},
   "outputs": [
    {
     "data": {
      "text/html": [
       "<div>\n",
       "<style scoped>\n",
       "    .dataframe tbody tr th:only-of-type {\n",
       "        vertical-align: middle;\n",
       "    }\n",
       "\n",
       "    .dataframe tbody tr th {\n",
       "        vertical-align: top;\n",
       "    }\n",
       "\n",
       "    .dataframe thead th {\n",
       "        text-align: right;\n",
       "    }\n",
       "</style>\n",
       "<table border=\"1\" class=\"dataframe\">\n",
       "  <thead>\n",
       "    <tr style=\"text-align: right;\">\n",
       "      <th></th>\n",
       "      <th>measure_id</th>\n",
       "      <th>measure_name</th>\n",
       "      <th>location_id</th>\n",
       "      <th>location_name</th>\n",
       "      <th>sex_id</th>\n",
       "      <th>sex_name</th>\n",
       "      <th>age_id</th>\n",
       "      <th>age_name</th>\n",
       "      <th>cause_id</th>\n",
       "      <th>cause_name</th>\n",
       "      <th>metric_id</th>\n",
       "      <th>metric_name</th>\n",
       "      <th>year</th>\n",
       "      <th>val</th>\n",
       "      <th>upper</th>\n",
       "      <th>lower</th>\n",
       "    </tr>\n",
       "  </thead>\n",
       "  <tbody>\n",
       "    <tr>\n",
       "      <th>0</th>\n",
       "      <td>2</td>\n",
       "      <td>DALYs (Disability-Adjusted Life Years)</td>\n",
       "      <td>1</td>\n",
       "      <td>Global</td>\n",
       "      <td>1</td>\n",
       "      <td>Male</td>\n",
       "      <td>9</td>\n",
       "      <td>20-24 years</td>\n",
       "      <td>567</td>\n",
       "      <td>Depressive disorders</td>\n",
       "      <td>1</td>\n",
       "      <td>Number</td>\n",
       "      <td>1990</td>\n",
       "      <td>1.348516e+06</td>\n",
       "      <td>2.039745e+06</td>\n",
       "      <td>853642.652621</td>\n",
       "    </tr>\n",
       "  </tbody>\n",
       "</table>\n",
       "</div>"
      ],
      "text/plain": [
       "   measure_id                            measure_name  location_id  \\\n",
       "0           2  DALYs (Disability-Adjusted Life Years)            1   \n",
       "\n",
       "  location_name  sex_id sex_name  age_id     age_name  cause_id  \\\n",
       "0        Global       1     Male       9  20-24 years       567   \n",
       "\n",
       "             cause_name  metric_id metric_name  year           val  \\\n",
       "0  Depressive disorders          1      Number  1990  1.348516e+06   \n",
       "\n",
       "          upper          lower  \n",
       "0  2.039745e+06  853642.652621  "
      ]
     },
     "execution_count": 2,
     "metadata": {},
     "output_type": "execute_result"
    }
   ],
   "source": [
    "#global cases\n",
    "\n",
    "dfglobal = pd.read_csv(\"/Users/anaantonello/Desktop/Jupter NoteBooks/data/IHME-GBD_ADHD.csv\")\n",
    "dfglobal.head(1)"
   ]
  },
  {
   "cell_type": "code",
   "execution_count": 3,
   "id": "fc248093",
   "metadata": {},
   "outputs": [
    {
     "data": {
      "text/html": [
       "<div>\n",
       "<style scoped>\n",
       "    .dataframe tbody tr th:only-of-type {\n",
       "        vertical-align: middle;\n",
       "    }\n",
       "\n",
       "    .dataframe tbody tr th {\n",
       "        vertical-align: top;\n",
       "    }\n",
       "\n",
       "    .dataframe thead th {\n",
       "        text-align: right;\n",
       "    }\n",
       "</style>\n",
       "<table border=\"1\" class=\"dataframe\">\n",
       "  <thead>\n",
       "    <tr style=\"text-align: right;\">\n",
       "      <th></th>\n",
       "      <th>measure</th>\n",
       "      <th>location</th>\n",
       "      <th>sex</th>\n",
       "      <th>age</th>\n",
       "      <th>cause</th>\n",
       "      <th>metric</th>\n",
       "      <th>year</th>\n",
       "      <th>val</th>\n",
       "      <th>upper</th>\n",
       "      <th>lower</th>\n",
       "    </tr>\n",
       "  </thead>\n",
       "  <tbody>\n",
       "    <tr>\n",
       "      <th>0</th>\n",
       "      <td>DALYs (Disability-Adjusted Life Years)</td>\n",
       "      <td>Region of the Americas</td>\n",
       "      <td>Male</td>\n",
       "      <td>10-19 years</td>\n",
       "      <td>Anxiety disorders</td>\n",
       "      <td>Percent</td>\n",
       "      <td>2019</td>\n",
       "      <td>0.033054</td>\n",
       "      <td>0.046684</td>\n",
       "      <td>0.022703</td>\n",
       "    </tr>\n",
       "    <tr>\n",
       "      <th>1</th>\n",
       "      <td>DALYs (Disability-Adjusted Life Years)</td>\n",
       "      <td>Region of the Americas</td>\n",
       "      <td>Female</td>\n",
       "      <td>10-19 years</td>\n",
       "      <td>Anxiety disorders</td>\n",
       "      <td>Percent</td>\n",
       "      <td>2019</td>\n",
       "      <td>0.060317</td>\n",
       "      <td>0.083089</td>\n",
       "      <td>0.041538</td>\n",
       "    </tr>\n",
       "  </tbody>\n",
       "</table>\n",
       "</div>"
      ],
      "text/plain": [
       "                                  measure                location     sex  \\\n",
       "0  DALYs (Disability-Adjusted Life Years)  Region of the Americas    Male   \n",
       "1  DALYs (Disability-Adjusted Life Years)  Region of the Americas  Female   \n",
       "\n",
       "           age              cause   metric  year       val     upper     lower  \n",
       "0  10-19 years  Anxiety disorders  Percent  2019  0.033054  0.046684  0.022703  \n",
       "1  10-19 years  Anxiety disorders  Percent  2019  0.060317  0.083089  0.041538  "
      ]
     },
     "execution_count": 3,
     "metadata": {},
     "output_type": "execute_result"
    }
   ],
   "source": [
    "# cases by WHO region\n",
    "\n",
    "dfregions = pd.read_csv(\"/Users/anaantonello/Desktop/Jupter NoteBooks/data/IHME-GBD_2019_DATA-a715bc27-1.csv\")\n",
    "dfregions.head(2)"
   ]
  },
  {
   "cell_type": "markdown",
   "id": "4510d971",
   "metadata": {},
   "source": [
    "#### Editing global cases\n",
    "Drop unnecessary columns\n",
    "Rename columns\n"
   ]
  },
  {
   "cell_type": "code",
   "execution_count": 4,
   "id": "1ebc840b",
   "metadata": {},
   "outputs": [
    {
     "data": {
      "text/html": [
       "<div>\n",
       "<style scoped>\n",
       "    .dataframe tbody tr th:only-of-type {\n",
       "        vertical-align: middle;\n",
       "    }\n",
       "\n",
       "    .dataframe tbody tr th {\n",
       "        vertical-align: top;\n",
       "    }\n",
       "\n",
       "    .dataframe thead th {\n",
       "        text-align: right;\n",
       "    }\n",
       "</style>\n",
       "<table border=\"1\" class=\"dataframe\">\n",
       "  <thead>\n",
       "    <tr style=\"text-align: right;\">\n",
       "      <th></th>\n",
       "      <th>location_name</th>\n",
       "      <th>sex_name</th>\n",
       "      <th>age_name</th>\n",
       "      <th>cause_name</th>\n",
       "      <th>metric_name</th>\n",
       "      <th>year</th>\n",
       "      <th>val</th>\n",
       "      <th>upper</th>\n",
       "      <th>lower</th>\n",
       "    </tr>\n",
       "  </thead>\n",
       "  <tbody>\n",
       "    <tr>\n",
       "      <th>0</th>\n",
       "      <td>Global</td>\n",
       "      <td>Male</td>\n",
       "      <td>20-24 years</td>\n",
       "      <td>Depressive disorders</td>\n",
       "      <td>Number</td>\n",
       "      <td>1990</td>\n",
       "      <td>1.348516e+06</td>\n",
       "      <td>2.039745e+06</td>\n",
       "      <td>8.536427e+05</td>\n",
       "    </tr>\n",
       "    <tr>\n",
       "      <th>1</th>\n",
       "      <td>Global</td>\n",
       "      <td>Female</td>\n",
       "      <td>20-24 years</td>\n",
       "      <td>Depressive disorders</td>\n",
       "      <td>Number</td>\n",
       "      <td>1990</td>\n",
       "      <td>2.233168e+06</td>\n",
       "      <td>3.348133e+06</td>\n",
       "      <td>1.417527e+06</td>\n",
       "    </tr>\n",
       "    <tr>\n",
       "      <th>2</th>\n",
       "      <td>Global</td>\n",
       "      <td>Male</td>\n",
       "      <td>20-24 years</td>\n",
       "      <td>Depressive disorders</td>\n",
       "      <td>Percent</td>\n",
       "      <td>1990</td>\n",
       "      <td>2.692636e-02</td>\n",
       "      <td>3.799595e-02</td>\n",
       "      <td>1.814054e-02</td>\n",
       "    </tr>\n",
       "    <tr>\n",
       "      <th>3</th>\n",
       "      <td>Global</td>\n",
       "      <td>Female</td>\n",
       "      <td>20-24 years</td>\n",
       "      <td>Depressive disorders</td>\n",
       "      <td>Percent</td>\n",
       "      <td>1990</td>\n",
       "      <td>4.772681e-02</td>\n",
       "      <td>6.567023e-02</td>\n",
       "      <td>3.224251e-02</td>\n",
       "    </tr>\n",
       "    <tr>\n",
       "      <th>4</th>\n",
       "      <td>Global</td>\n",
       "      <td>Male</td>\n",
       "      <td>20-24 years</td>\n",
       "      <td>Depressive disorders</td>\n",
       "      <td>Rate</td>\n",
       "      <td>1990</td>\n",
       "      <td>5.430803e+02</td>\n",
       "      <td>8.214551e+02</td>\n",
       "      <td>3.437827e+02</td>\n",
       "    </tr>\n",
       "  </tbody>\n",
       "</table>\n",
       "</div>"
      ],
      "text/plain": [
       "  location_name sex_name     age_name            cause_name metric_name  year  \\\n",
       "0        Global     Male  20-24 years  Depressive disorders      Number  1990   \n",
       "1        Global   Female  20-24 years  Depressive disorders      Number  1990   \n",
       "2        Global     Male  20-24 years  Depressive disorders     Percent  1990   \n",
       "3        Global   Female  20-24 years  Depressive disorders     Percent  1990   \n",
       "4        Global     Male  20-24 years  Depressive disorders        Rate  1990   \n",
       "\n",
       "            val         upper         lower  \n",
       "0  1.348516e+06  2.039745e+06  8.536427e+05  \n",
       "1  2.233168e+06  3.348133e+06  1.417527e+06  \n",
       "2  2.692636e-02  3.799595e-02  1.814054e-02  \n",
       "3  4.772681e-02  6.567023e-02  3.224251e-02  \n",
       "4  5.430803e+02  8.214551e+02  3.437827e+02  "
      ]
     },
     "execution_count": 4,
     "metadata": {},
     "output_type": "execute_result"
    }
   ],
   "source": [
    "# Removing unnecessary columns and saving in a new variable (adhd)\n",
    "\n",
    "dfglobal_use = dfglobal.drop(['measure_id', 'measure_name', 'location_id', 'sex_id', 'age_id',\n",
    "                       'cause_id', 'metric_id'],axis = 1)\n",
    "dfglobal_use.head(5)"
   ]
  },
  {
   "cell_type": "code",
   "execution_count": 5,
   "id": "9d45ea6d",
   "metadata": {},
   "outputs": [
    {
     "data": {
      "text/html": [
       "<div>\n",
       "<style scoped>\n",
       "    .dataframe tbody tr th:only-of-type {\n",
       "        vertical-align: middle;\n",
       "    }\n",
       "\n",
       "    .dataframe tbody tr th {\n",
       "        vertical-align: top;\n",
       "    }\n",
       "\n",
       "    .dataframe thead th {\n",
       "        text-align: right;\n",
       "    }\n",
       "</style>\n",
       "<table border=\"1\" class=\"dataframe\">\n",
       "  <thead>\n",
       "    <tr style=\"text-align: right;\">\n",
       "      <th></th>\n",
       "      <th>location</th>\n",
       "      <th>sex</th>\n",
       "      <th>age</th>\n",
       "      <th>cause</th>\n",
       "      <th>metric</th>\n",
       "      <th>year</th>\n",
       "      <th>val</th>\n",
       "      <th>upper</th>\n",
       "      <th>lower</th>\n",
       "    </tr>\n",
       "  </thead>\n",
       "  <tbody>\n",
       "    <tr>\n",
       "      <th>0</th>\n",
       "      <td>Global</td>\n",
       "      <td>Male</td>\n",
       "      <td>20-24 years</td>\n",
       "      <td>Depressive disorders</td>\n",
       "      <td>Number</td>\n",
       "      <td>1990</td>\n",
       "      <td>1.348516e+06</td>\n",
       "      <td>2.039745e+06</td>\n",
       "      <td>8.536427e+05</td>\n",
       "    </tr>\n",
       "    <tr>\n",
       "      <th>1</th>\n",
       "      <td>Global</td>\n",
       "      <td>Female</td>\n",
       "      <td>20-24 years</td>\n",
       "      <td>Depressive disorders</td>\n",
       "      <td>Number</td>\n",
       "      <td>1990</td>\n",
       "      <td>2.233168e+06</td>\n",
       "      <td>3.348133e+06</td>\n",
       "      <td>1.417527e+06</td>\n",
       "    </tr>\n",
       "    <tr>\n",
       "      <th>2</th>\n",
       "      <td>Global</td>\n",
       "      <td>Male</td>\n",
       "      <td>20-24 years</td>\n",
       "      <td>Depressive disorders</td>\n",
       "      <td>Percent</td>\n",
       "      <td>1990</td>\n",
       "      <td>2.692636e-02</td>\n",
       "      <td>3.799595e-02</td>\n",
       "      <td>1.814054e-02</td>\n",
       "    </tr>\n",
       "    <tr>\n",
       "      <th>3</th>\n",
       "      <td>Global</td>\n",
       "      <td>Female</td>\n",
       "      <td>20-24 years</td>\n",
       "      <td>Depressive disorders</td>\n",
       "      <td>Percent</td>\n",
       "      <td>1990</td>\n",
       "      <td>4.772681e-02</td>\n",
       "      <td>6.567023e-02</td>\n",
       "      <td>3.224251e-02</td>\n",
       "    </tr>\n",
       "    <tr>\n",
       "      <th>4</th>\n",
       "      <td>Global</td>\n",
       "      <td>Male</td>\n",
       "      <td>20-24 years</td>\n",
       "      <td>Depressive disorders</td>\n",
       "      <td>Rate</td>\n",
       "      <td>1990</td>\n",
       "      <td>5.430803e+02</td>\n",
       "      <td>8.214551e+02</td>\n",
       "      <td>3.437827e+02</td>\n",
       "    </tr>\n",
       "  </tbody>\n",
       "</table>\n",
       "</div>"
      ],
      "text/plain": [
       "  location     sex          age                 cause   metric  year  \\\n",
       "0   Global    Male  20-24 years  Depressive disorders   Number  1990   \n",
       "1   Global  Female  20-24 years  Depressive disorders   Number  1990   \n",
       "2   Global    Male  20-24 years  Depressive disorders  Percent  1990   \n",
       "3   Global  Female  20-24 years  Depressive disorders  Percent  1990   \n",
       "4   Global    Male  20-24 years  Depressive disorders     Rate  1990   \n",
       "\n",
       "            val         upper         lower  \n",
       "0  1.348516e+06  2.039745e+06  8.536427e+05  \n",
       "1  2.233168e+06  3.348133e+06  1.417527e+06  \n",
       "2  2.692636e-02  3.799595e-02  1.814054e-02  \n",
       "3  4.772681e-02  6.567023e-02  3.224251e-02  \n",
       "4  5.430803e+02  8.214551e+02  3.437827e+02  "
      ]
     },
     "execution_count": 5,
     "metadata": {},
     "output_type": "execute_result"
    }
   ],
   "source": [
    "# Renameing columns\n",
    "\n",
    "global_new_cols = {}\n",
    "\n",
    "for col in dfglobal_use.columns:\n",
    "    if '_' in col:\n",
    "        parts = col.split('_')\n",
    "        global_new_cols[col] = parts[0]\n",
    "\n",
    "dfglobal_use.rename(columns = global_new_cols, inplace = True)\n",
    "\n",
    "dfglobal_use.head()"
   ]
  },
  {
   "cell_type": "code",
   "execution_count": 6,
   "id": "6f1fd2b2",
   "metadata": {},
   "outputs": [
    {
     "data": {
      "text/plain": [
       "(5400, 9)"
      ]
     },
     "execution_count": 6,
     "metadata": {},
     "output_type": "execute_result"
    }
   ],
   "source": [
    "dfglobal_use.shape"
   ]
  },
  {
   "cell_type": "code",
   "execution_count": 7,
   "id": "f17b5d48",
   "metadata": {},
   "outputs": [
    {
     "name": "stdout",
     "output_type": "stream",
     "text": [
      "<class 'pandas.core.frame.DataFrame'>\n",
      "RangeIndex: 5400 entries, 0 to 5399\n",
      "Data columns (total 9 columns):\n",
      " #   Column    Non-Null Count  Dtype  \n",
      "---  ------    --------------  -----  \n",
      " 0   location  5400 non-null   object \n",
      " 1   sex       5400 non-null   object \n",
      " 2   age       5400 non-null   object \n",
      " 3   cause     5400 non-null   object \n",
      " 4   metric    5400 non-null   object \n",
      " 5   year      5400 non-null   int64  \n",
      " 6   val       5400 non-null   float64\n",
      " 7   upper     5400 non-null   float64\n",
      " 8   lower     5400 non-null   float64\n",
      "dtypes: float64(3), int64(1), object(5)\n",
      "memory usage: 379.8+ KB\n"
     ]
    }
   ],
   "source": [
    "dfglobal_use.info()"
   ]
  },
  {
   "cell_type": "markdown",
   "id": "3443c00a",
   "metadata": {},
   "source": [
    "#### Editing Regional cases\n",
    "Drop unnecessary columns\n",
    "Now both df will fave the same number of columns and the related columns will have the same name"
   ]
  },
  {
   "cell_type": "code",
   "execution_count": 8,
   "id": "64a7ad3d",
   "metadata": {},
   "outputs": [
    {
     "name": "stdout",
     "output_type": "stream",
     "text": [
      "<class 'pandas.core.frame.DataFrame'>\n",
      "RangeIndex: 360 entries, 0 to 359\n",
      "Data columns (total 10 columns):\n",
      " #   Column    Non-Null Count  Dtype  \n",
      "---  ------    --------------  -----  \n",
      " 0   measure   360 non-null    object \n",
      " 1   location  360 non-null    object \n",
      " 2   sex       360 non-null    object \n",
      " 3   age       360 non-null    object \n",
      " 4   cause     360 non-null    object \n",
      " 5   metric    360 non-null    object \n",
      " 6   year      360 non-null    int64  \n",
      " 7   val       360 non-null    float64\n",
      " 8   upper     360 non-null    float64\n",
      " 9   lower     360 non-null    float64\n",
      "dtypes: float64(3), int64(1), object(6)\n",
      "memory usage: 28.3+ KB\n"
     ]
    }
   ],
   "source": [
    "dfregions.info()"
   ]
  },
  {
   "cell_type": "code",
   "execution_count": 9,
   "id": "b2284758",
   "metadata": {},
   "outputs": [
    {
     "data": {
      "text/plain": [
       "(360, 9)"
      ]
     },
     "execution_count": 9,
     "metadata": {},
     "output_type": "execute_result"
    }
   ],
   "source": [
    "dfregions.drop(['measure'], axis = 1, inplace = True)\n",
    "dfregions.shape"
   ]
  },
  {
   "cell_type": "code",
   "execution_count": 10,
   "id": "a9a90164",
   "metadata": {},
   "outputs": [
    {
     "name": "stdout",
     "output_type": "stream",
     "text": [
      "['0-9 years', '10-19 years', '20-24 years', '25-29 years', '30-34 years', '35-39 years', '40-44 years', '45-49 years', '50-54 years', '55+ years']\n"
     ]
    }
   ],
   "source": [
    "ages = []\n",
    "\n",
    "for age in dfglobal_use['age']:\n",
    "    if age not in ages: ages.append(age)\n",
    "print(sorted(ages))"
   ]
  },
  {
   "cell_type": "markdown",
   "id": "0efdedc9",
   "metadata": {},
   "source": [
    "### Concatenating both df"
   ]
  },
  {
   "cell_type": "code",
   "execution_count": 11,
   "id": "512dea2c",
   "metadata": {},
   "outputs": [
    {
     "data": {
      "text/html": [
       "<div>\n",
       "<style scoped>\n",
       "    .dataframe tbody tr th:only-of-type {\n",
       "        vertical-align: middle;\n",
       "    }\n",
       "\n",
       "    .dataframe tbody tr th {\n",
       "        vertical-align: top;\n",
       "    }\n",
       "\n",
       "    .dataframe thead th {\n",
       "        text-align: right;\n",
       "    }\n",
       "</style>\n",
       "<table border=\"1\" class=\"dataframe\">\n",
       "  <thead>\n",
       "    <tr style=\"text-align: right;\">\n",
       "      <th></th>\n",
       "      <th>location</th>\n",
       "      <th>sex</th>\n",
       "      <th>age</th>\n",
       "      <th>cause</th>\n",
       "      <th>metric</th>\n",
       "      <th>year</th>\n",
       "      <th>val</th>\n",
       "      <th>upper</th>\n",
       "      <th>lower</th>\n",
       "    </tr>\n",
       "  </thead>\n",
       "  <tbody>\n",
       "    <tr>\n",
       "      <th>0</th>\n",
       "      <td>Global</td>\n",
       "      <td>Male</td>\n",
       "      <td>20-24 years</td>\n",
       "      <td>Depressive disorders</td>\n",
       "      <td>Number</td>\n",
       "      <td>1990</td>\n",
       "      <td>1.348516e+06</td>\n",
       "      <td>2.039745e+06</td>\n",
       "      <td>8.536427e+05</td>\n",
       "    </tr>\n",
       "    <tr>\n",
       "      <th>1</th>\n",
       "      <td>Global</td>\n",
       "      <td>Female</td>\n",
       "      <td>20-24 years</td>\n",
       "      <td>Depressive disorders</td>\n",
       "      <td>Number</td>\n",
       "      <td>1990</td>\n",
       "      <td>2.233168e+06</td>\n",
       "      <td>3.348133e+06</td>\n",
       "      <td>1.417527e+06</td>\n",
       "    </tr>\n",
       "    <tr>\n",
       "      <th>2</th>\n",
       "      <td>Global</td>\n",
       "      <td>Male</td>\n",
       "      <td>20-24 years</td>\n",
       "      <td>Depressive disorders</td>\n",
       "      <td>Percent</td>\n",
       "      <td>1990</td>\n",
       "      <td>2.692636e-02</td>\n",
       "      <td>3.799595e-02</td>\n",
       "      <td>1.814054e-02</td>\n",
       "    </tr>\n",
       "    <tr>\n",
       "      <th>3</th>\n",
       "      <td>Global</td>\n",
       "      <td>Female</td>\n",
       "      <td>20-24 years</td>\n",
       "      <td>Depressive disorders</td>\n",
       "      <td>Percent</td>\n",
       "      <td>1990</td>\n",
       "      <td>4.772681e-02</td>\n",
       "      <td>6.567023e-02</td>\n",
       "      <td>3.224251e-02</td>\n",
       "    </tr>\n",
       "    <tr>\n",
       "      <th>4</th>\n",
       "      <td>Global</td>\n",
       "      <td>Male</td>\n",
       "      <td>20-24 years</td>\n",
       "      <td>Depressive disorders</td>\n",
       "      <td>Rate</td>\n",
       "      <td>1990</td>\n",
       "      <td>5.430803e+02</td>\n",
       "      <td>8.214551e+02</td>\n",
       "      <td>3.437827e+02</td>\n",
       "    </tr>\n",
       "  </tbody>\n",
       "</table>\n",
       "</div>"
      ],
      "text/plain": [
       "  location     sex          age                 cause   metric  year  \\\n",
       "0   Global    Male  20-24 years  Depressive disorders   Number  1990   \n",
       "1   Global  Female  20-24 years  Depressive disorders   Number  1990   \n",
       "2   Global    Male  20-24 years  Depressive disorders  Percent  1990   \n",
       "3   Global  Female  20-24 years  Depressive disorders  Percent  1990   \n",
       "4   Global    Male  20-24 years  Depressive disorders     Rate  1990   \n",
       "\n",
       "            val         upper         lower  \n",
       "0  1.348516e+06  2.039745e+06  8.536427e+05  \n",
       "1  2.233168e+06  3.348133e+06  1.417527e+06  \n",
       "2  2.692636e-02  3.799595e-02  1.814054e-02  \n",
       "3  4.772681e-02  6.567023e-02  3.224251e-02  \n",
       "4  5.430803e+02  8.214551e+02  3.437827e+02  "
      ]
     },
     "execution_count": 11,
     "metadata": {},
     "output_type": "execute_result"
    }
   ],
   "source": [
    "cases = pd.concat([dfglobal_use, dfregions], axis = 0, ignore_index = True)\n",
    "cases.head()"
   ]
  },
  {
   "cell_type": "code",
   "execution_count": 12,
   "id": "d3cf0415",
   "metadata": {},
   "outputs": [
    {
     "data": {
      "text/html": [
       "<div>\n",
       "<style scoped>\n",
       "    .dataframe tbody tr th:only-of-type {\n",
       "        vertical-align: middle;\n",
       "    }\n",
       "\n",
       "    .dataframe tbody tr th {\n",
       "        vertical-align: top;\n",
       "    }\n",
       "\n",
       "    .dataframe thead th {\n",
       "        text-align: right;\n",
       "    }\n",
       "</style>\n",
       "<table border=\"1\" class=\"dataframe\">\n",
       "  <thead>\n",
       "    <tr style=\"text-align: right;\">\n",
       "      <th></th>\n",
       "      <th>location</th>\n",
       "      <th>sex</th>\n",
       "      <th>age</th>\n",
       "      <th>cause</th>\n",
       "      <th>metric</th>\n",
       "      <th>year</th>\n",
       "      <th>val</th>\n",
       "      <th>upper</th>\n",
       "      <th>lower</th>\n",
       "    </tr>\n",
       "  </thead>\n",
       "  <tbody>\n",
       "    <tr>\n",
       "      <th>0</th>\n",
       "      <td>Global</td>\n",
       "      <td>Male</td>\n",
       "      <td>20-24</td>\n",
       "      <td>Depressive disorders</td>\n",
       "      <td>Number</td>\n",
       "      <td>1990</td>\n",
       "      <td>1.348516e+06</td>\n",
       "      <td>2.039745e+06</td>\n",
       "      <td>8.536427e+05</td>\n",
       "    </tr>\n",
       "    <tr>\n",
       "      <th>1</th>\n",
       "      <td>Global</td>\n",
       "      <td>Female</td>\n",
       "      <td>20-24</td>\n",
       "      <td>Depressive disorders</td>\n",
       "      <td>Number</td>\n",
       "      <td>1990</td>\n",
       "      <td>2.233168e+06</td>\n",
       "      <td>3.348133e+06</td>\n",
       "      <td>1.417527e+06</td>\n",
       "    </tr>\n",
       "  </tbody>\n",
       "</table>\n",
       "</div>"
      ],
      "text/plain": [
       "  location     sex    age                 cause  metric  year           val  \\\n",
       "0   Global    Male  20-24  Depressive disorders  Number  1990  1.348516e+06   \n",
       "1   Global  Female  20-24  Depressive disorders  Number  1990  2.233168e+06   \n",
       "\n",
       "          upper         lower  \n",
       "0  2.039745e+06  8.536427e+05  \n",
       "1  3.348133e+06  1.417527e+06  "
      ]
     },
     "execution_count": 12,
     "metadata": {},
     "output_type": "execute_result"
    }
   ],
   "source": [
    "cases['age'] = cases['age'].str.split(' ').str.get(0)\n",
    "cases.head(2)"
   ]
  },
  {
   "cell_type": "code",
   "execution_count": 13,
   "id": "3d5082d4",
   "metadata": {},
   "outputs": [
    {
     "data": {
      "text/plain": [
       "array(['Depressive disorders', 'Anxiety disorders',\n",
       "       'Attention-deficit/hyperactivity disorder'], dtype=object)"
      ]
     },
     "execution_count": 13,
     "metadata": {},
     "output_type": "execute_result"
    }
   ],
   "source": [
    "cases['cause'].unique()"
   ]
  },
  {
   "cell_type": "markdown",
   "id": "4a17628d",
   "metadata": {},
   "source": [
    "# Butterfly chart "
   ]
  },
  {
   "cell_type": "code",
   "execution_count": 14,
   "id": "572764b9",
   "metadata": {},
   "outputs": [],
   "source": [
    "# Defining data\n",
    "\n",
    "\n",
    "adhd_global = cases[(cases['metric'] == 'Rate') & \n",
    "                           (cases['cause'] == 'Attention-deficit/hyperactivity disorder') &\n",
    "                           (cases['location'] == 'Global')]\n",
    "\n",
    "fem_adhd_gl = adhd_global[adhd_global['sex']=='Female'].sort_values(by = 'age', ascending = True)\n",
    "mal_adhd_gl = adhd_global[adhd_global['sex']=='Male'].sort_values(by = 'age', ascending = True)\n"
   ]
  },
  {
   "cell_type": "code",
   "execution_count": 27,
   "id": "d84c99c6",
   "metadata": {
    "scrolled": true
   },
   "outputs": [
    {
     "data": {
      "image/png": "[encoded data removed]",
      "text/plain": [
       "<Figure size 1000x600 with 1 Axes>"
      ]
     },
     "metadata": {},
     "output_type": "display_data"
    }
   ],
   "source": [
    "butt= plt.figure(figsize = (10, 6))\n",
    "\n",
    "# plot reversed horizontal bar chart for females, to stay at the left side\n",
    "plt.barh(fem_adhd_gl['age'], -fem_adhd_gl['val'], color = 'purple', label = 'Female')\n",
    "\n",
    "# plot horizontal barchat for males\n",
    "plt.barh(mal_adhd_gl['age'], mal_adhd_gl['val'], color = 'yellow', label = 'Male')\n",
    "\n",
    "plt.xlabel('Diagnosis')\n",
    "plt.ylabel('Age')\n",
    "plt.title('ADHD diagnosis')\n",
    "\n",
    "plt.savefig('/Users/anaantonello/Desktop/Jupter NoteBooks/Exported-Jupiter.adhd_gender.jpeg')\n",
    "plt.legend()\n",
    "plt.show()"
   ]
  },
  {
   "cell_type": "code",
   "execution_count": 26,
   "id": "2b19e0cd",
   "metadata": {},
   "outputs": [
    {
     "data": {
      "image/png": "[encoded data removed]",
      "text/plain": [
       "<Figure size 640x480 with 2 Axes>"
      ]
     },
     "metadata": {},
     "output_type": "display_data"
    }
   ],
   "source": [
    "# num_ages = len(fem_adhd_gl['age'].unique())\n",
    "# yposition = np.arange(num_ages) + 1 # bars centered on the y axis\n",
    "\n",
    "fig, (ax_left, ax_right) = plt.subplots(ncols = 2)\n",
    "\n",
    "# Left plot - females reversed horizontal bar chart,\n",
    "ax_left.barh(fem_adhd_gl['age'], fem_adhd_gl['val'], align = 'center', color = '#5E2BFF', label = 'Female')\n",
    "ax_left.set_yticks('')\n",
    "# ax_left.set_xlabel('Diagnosis')\n",
    "ax_left.invert_xaxis()\n",
    "\n",
    "# Righr plot - males horizontal bar chart \n",
    "ax_right.barh(mal_adhd_gl['age'], mal_adhd_gl['val'], align = 'center', color = '#FFCF00', label = 'Male')\n",
    "ax_right.set_xlabel('% Diagnosis')\n",
    "\n",
    "# Set y axis on the left to be the same as on the right (that is higher)\n",
    "ax_left.set_xlim(mal_adhd_gl['val'].max())\n",
    "\n",
    "# Adjusting the space between left and right subplots\n",
    "plt.subplots_adjust(wspace = 0.3)\n",
    "\n",
    "plt.show()"
   ]
  },
  {
   "cell_type": "code",
   "execution_count": null,
   "id": "023e103d",
   "metadata": {},
   "outputs": [],
   "source": []
  }
 ],
 "metadata": {
  "kernelspec": {
   "display_name": "Python 3 (ipykernel)",
   "language": "python",
   "name": "python3"
  },
  "language_info": {
   "codemirror_mode": {
    "name": "ipython",
    "version": 3
   },
   "file_extension": ".py",
   "mimetype": "text/x-python",
   "name": "python",
   "nbconvert_exporter": "python",
   "pygments_lexer": "ipython3",
   "version": "3.11.5"
  }
 },
 "nbformat": 4,
 "nbformat_minor": 5
}
